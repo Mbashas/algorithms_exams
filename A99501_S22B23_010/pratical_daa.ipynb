{
 "cells": [
  {
   "cell_type": "markdown",
   "metadata": {},
   "source": [
    "QUESTION 1"
   ]
  },
  {
   "cell_type": "code",
   "execution_count": 11,
   "metadata": {},
   "outputs": [
    {
     "name": "stdout",
     "output_type": "stream",
     "text": [
      "Food 'Juice:Pineaple' not AVAILABLE.\n",
      "Total Cost for Order 1: 25000 UGX\n",
      "Total Cost for Order 2: 1500 UGX\n",
      "\n",
      "You will pay a total of 26500 UGX\n"
     ]
    }
   ],
   "source": [
    "memo = {}\n",
    "def calculate_total(order, menu, memo):\n",
    "    if tuple(order) in memo:\n",
    "        return memo[tuple(order)]\n",
    "\n",
    "    total_cost = 0\n",
    "    for item in order:\n",
    "        if item in menu:\n",
    "            total_cost += menu[item]\n",
    "        else:\n",
    "            print(f\"Food '{item}' not AVAILABLE.\")\n",
    "\n",
    "    memo[tuple(order)] = total_cost\n",
    "    return total_cost\n",
    "\n",
    "menu = {\n",
    "    \"binyebwa\": 5000,\n",
    "    \"Kikomando\": 3000,\n",
    "    \"Amuse Bouche\": 1500,\n",
    "    \"katogo\": 5000,\n",
    "    \"Chapati\": 10000,\n",
    "    \"Juice: Mango\": 10000\n",
    "}\n",
    "seth_order = [\"binyebwa\", \"Chapati\", \"Juice: Mango\"]\n",
    "mary_order = [\"Amuse Bouche\", \"Juice:Pineaple\"]\n",
    "\n",
    "total_order1 = calculate_total(seth_order, menu, memo)\n",
    "total_order2 = calculate_total(mary_order, menu, memo)\n",
    "final_total=total_order1+total_order2\n",
    "\n",
    "\n",
    "print(f\"Total Cost for Order 1: {total_order1} UGX\")\n",
    "print(f\"Total Cost for Order 2: {total_order2} UGX\")\n",
    "print()\n",
    "print(f'You will pay a total of {final_total} UGX')\n"
   ]
  },
  {
   "cell_type": "markdown",
   "metadata": {},
   "source": [
    "QUESTION 3"
   ]
  },
  {
   "cell_type": "code",
   "execution_count": 12,
   "metadata": {},
   "outputs": [
    {
     "name": "stdout",
     "output_type": "stream",
     "text": [
      "Kulondwa and Praise share these friends: {'Solomon', 'Aline'}\n"
     ]
    }
   ],
   "source": [
    "from collections import deque as deq\n",
    "\n",
    "graph = {\n",
    "    'Kulondwa': ['jack', 'Solomon','Aline'],\n",
    "    'Jack': ['Kulondwa', 'Elton'],\n",
    "    'Solomon': ['Kulondwa', 'Praise'],\n",
    "    'Elton': ['Jack','Simon'],\n",
    "    'Praise': ['Solomon','Aline']\n",
    "}\n",
    "\n",
    "def bfs(graph, friend1, friend2):\n",
    "    visited = set()\n",
    "    queue = deq([(friend1, [])])\n",
    "\n",
    "    while queue:\n",
    "        current_user, path = queue.popleft()\n",
    "        visited.add(current_user)\n",
    "\n",
    "        if current_user == friend2:\n",
    "            return path\n",
    "\n",
    "        for friend in graph.get(current_user, []):\n",
    "            if friend not in visited:\n",
    "                queue.append((friend, path + [friend]))\n",
    "\n",
    "    return None\n",
    "\n",
    "def shared_friends(graph, friend1, friend2):\n",
    "    path = bfs(graph, friend1, friend2)\n",
    "    if path:\n",
    "        mutuals = set(graph[friend1]) & set(graph[friend2])\n",
    "        return mutuals\n",
    "    else:\n",
    "        return None\n",
    "\n",
    "friend1 = 'Kulondwa'\n",
    "friend2 = 'Praise'\n",
    "mutuals = shared_friends(graph, friend2, friend1)\n",
    "\n",
    "if mutuals:\n",
    "      print(f\"{friend1} and {friend2} share these friends: {mutuals}\")\n",
    "else:\n",
    "    print(f\"{friend1} and {friend2} hve no friend in common.\")\n"
   ]
  },
  {
   "cell_type": "markdown",
   "metadata": {},
   "source": [
    "So the time it takes to find mutual friends between two friends is like checking each friend’s name on my list. If you have two friends for the first freind and one friends for the second friend, the total time spent checking names is roughly 2 + 1=4. So the time complexity will be O(X+Y) x and y representing the two friends. same applies for space complexity where I alos need space to store the name of my friend's friends that I have alreday checked."
   ]
  }
 ],
 "metadata": {
  "kernelspec": {
   "display_name": "Python 3",
   "language": "python",
   "name": "python3"
  },
  "language_info": {
   "codemirror_mode": {
    "name": "ipython",
    "version": 3
   },
   "file_extension": ".py",
   "mimetype": "text/x-python",
   "name": "python",
   "nbconvert_exporter": "python",
   "pygments_lexer": "ipython3",
   "version": "3.10.5"
  }
 },
 "nbformat": 4,
 "nbformat_minor": 2
}
